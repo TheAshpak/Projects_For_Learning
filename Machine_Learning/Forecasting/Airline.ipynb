{
 "cells": [
  {
   "cell_type": "code",
   "execution_count": 2,
   "id": "da24b15d",
   "metadata": {},
   "outputs": [],
   "source": [
    "#importing required libraries\n",
    "import pandas as pd\n",
    "import numpy as np \n",
    "import seaborn as sns\n",
    "import matplotlib.pyplot as plt "
   ]
  },
  {
   "cell_type": "code",
   "execution_count": 3,
   "id": "bb5ec830",
   "metadata": {},
   "outputs": [],
   "source": [
    "al = pd.read_excel(\"D:/DataScience/Class/assignment working/Forcasting/Airlines Data.xlsx\")"
   ]
  },
  {
   "cell_type": "code",
   "execution_count": 4,
   "id": "02df8bda",
   "metadata": {},
   "outputs": [
    {
     "data": {
      "text/html": [
       "<div>\n",
       "<style scoped>\n",
       "    .dataframe tbody tr th:only-of-type {\n",
       "        vertical-align: middle;\n",
       "    }\n",
       "\n",
       "    .dataframe tbody tr th {\n",
       "        vertical-align: top;\n",
       "    }\n",
       "\n",
       "    .dataframe thead th {\n",
       "        text-align: right;\n",
       "    }\n",
       "</style>\n",
       "<table border=\"1\" class=\"dataframe\">\n",
       "  <thead>\n",
       "    <tr style=\"text-align: right;\">\n",
       "      <th></th>\n",
       "      <th>Month</th>\n",
       "      <th>Passengers</th>\n",
       "    </tr>\n",
       "  </thead>\n",
       "  <tbody>\n",
       "    <tr>\n",
       "      <th>0</th>\n",
       "      <td>1995-01-01</td>\n",
       "      <td>112</td>\n",
       "    </tr>\n",
       "    <tr>\n",
       "      <th>1</th>\n",
       "      <td>1995-02-01</td>\n",
       "      <td>118</td>\n",
       "    </tr>\n",
       "    <tr>\n",
       "      <th>2</th>\n",
       "      <td>1995-03-01</td>\n",
       "      <td>132</td>\n",
       "    </tr>\n",
       "    <tr>\n",
       "      <th>3</th>\n",
       "      <td>1995-04-01</td>\n",
       "      <td>129</td>\n",
       "    </tr>\n",
       "    <tr>\n",
       "      <th>4</th>\n",
       "      <td>1995-05-01</td>\n",
       "      <td>121</td>\n",
       "    </tr>\n",
       "    <tr>\n",
       "      <th>5</th>\n",
       "      <td>1995-06-01</td>\n",
       "      <td>135</td>\n",
       "    </tr>\n",
       "    <tr>\n",
       "      <th>6</th>\n",
       "      <td>1995-07-01</td>\n",
       "      <td>148</td>\n",
       "    </tr>\n",
       "    <tr>\n",
       "      <th>7</th>\n",
       "      <td>1995-08-01</td>\n",
       "      <td>148</td>\n",
       "    </tr>\n",
       "    <tr>\n",
       "      <th>8</th>\n",
       "      <td>1995-09-01</td>\n",
       "      <td>136</td>\n",
       "    </tr>\n",
       "    <tr>\n",
       "      <th>9</th>\n",
       "      <td>1995-10-01</td>\n",
       "      <td>119</td>\n",
       "    </tr>\n",
       "    <tr>\n",
       "      <th>10</th>\n",
       "      <td>1995-11-01</td>\n",
       "      <td>104</td>\n",
       "    </tr>\n",
       "    <tr>\n",
       "      <th>11</th>\n",
       "      <td>1995-12-01</td>\n",
       "      <td>118</td>\n",
       "    </tr>\n",
       "    <tr>\n",
       "      <th>12</th>\n",
       "      <td>1996-01-01</td>\n",
       "      <td>115</td>\n",
       "    </tr>\n",
       "  </tbody>\n",
       "</table>\n",
       "</div>"
      ],
      "text/plain": [
       "        Month  Passengers\n",
       "0  1995-01-01         112\n",
       "1  1995-02-01         118\n",
       "2  1995-03-01         132\n",
       "3  1995-04-01         129\n",
       "4  1995-05-01         121\n",
       "5  1995-06-01         135\n",
       "6  1995-07-01         148\n",
       "7  1995-08-01         148\n",
       "8  1995-09-01         136\n",
       "9  1995-10-01         119\n",
       "10 1995-11-01         104\n",
       "11 1995-12-01         118\n",
       "12 1996-01-01         115"
      ]
     },
     "execution_count": 4,
     "metadata": {},
     "output_type": "execute_result"
    }
   ],
   "source": [
    "al.head(13)"
   ]
  },
  {
   "cell_type": "code",
   "execution_count": 5,
   "id": "34257b9b",
   "metadata": {},
   "outputs": [
    {
     "data": {
      "text/html": [
       "<div>\n",
       "<style scoped>\n",
       "    .dataframe tbody tr th:only-of-type {\n",
       "        vertical-align: middle;\n",
       "    }\n",
       "\n",
       "    .dataframe tbody tr th {\n",
       "        vertical-align: top;\n",
       "    }\n",
       "\n",
       "    .dataframe thead th {\n",
       "        text-align: right;\n",
       "    }\n",
       "</style>\n",
       "<table border=\"1\" class=\"dataframe\">\n",
       "  <thead>\n",
       "    <tr style=\"text-align: right;\">\n",
       "      <th></th>\n",
       "      <th>Month</th>\n",
       "      <th>Passengers</th>\n",
       "    </tr>\n",
       "  </thead>\n",
       "  <tbody>\n",
       "    <tr>\n",
       "      <th>83</th>\n",
       "      <td>2001-12-01</td>\n",
       "      <td>278</td>\n",
       "    </tr>\n",
       "    <tr>\n",
       "      <th>84</th>\n",
       "      <td>2002-01-01</td>\n",
       "      <td>284</td>\n",
       "    </tr>\n",
       "    <tr>\n",
       "      <th>85</th>\n",
       "      <td>2002-02-01</td>\n",
       "      <td>277</td>\n",
       "    </tr>\n",
       "    <tr>\n",
       "      <th>86</th>\n",
       "      <td>2002-03-01</td>\n",
       "      <td>317</td>\n",
       "    </tr>\n",
       "    <tr>\n",
       "      <th>87</th>\n",
       "      <td>2002-04-01</td>\n",
       "      <td>313</td>\n",
       "    </tr>\n",
       "    <tr>\n",
       "      <th>88</th>\n",
       "      <td>2002-05-01</td>\n",
       "      <td>318</td>\n",
       "    </tr>\n",
       "    <tr>\n",
       "      <th>89</th>\n",
       "      <td>2002-06-01</td>\n",
       "      <td>374</td>\n",
       "    </tr>\n",
       "    <tr>\n",
       "      <th>90</th>\n",
       "      <td>2002-07-01</td>\n",
       "      <td>413</td>\n",
       "    </tr>\n",
       "    <tr>\n",
       "      <th>91</th>\n",
       "      <td>2002-08-01</td>\n",
       "      <td>405</td>\n",
       "    </tr>\n",
       "    <tr>\n",
       "      <th>92</th>\n",
       "      <td>2002-09-01</td>\n",
       "      <td>355</td>\n",
       "    </tr>\n",
       "    <tr>\n",
       "      <th>93</th>\n",
       "      <td>2002-10-01</td>\n",
       "      <td>306</td>\n",
       "    </tr>\n",
       "    <tr>\n",
       "      <th>94</th>\n",
       "      <td>2002-11-01</td>\n",
       "      <td>271</td>\n",
       "    </tr>\n",
       "    <tr>\n",
       "      <th>95</th>\n",
       "      <td>2002-12-01</td>\n",
       "      <td>306</td>\n",
       "    </tr>\n",
       "  </tbody>\n",
       "</table>\n",
       "</div>"
      ],
      "text/plain": [
       "        Month  Passengers\n",
       "83 2001-12-01         278\n",
       "84 2002-01-01         284\n",
       "85 2002-02-01         277\n",
       "86 2002-03-01         317\n",
       "87 2002-04-01         313\n",
       "88 2002-05-01         318\n",
       "89 2002-06-01         374\n",
       "90 2002-07-01         413\n",
       "91 2002-08-01         405\n",
       "92 2002-09-01         355\n",
       "93 2002-10-01         306\n",
       "94 2002-11-01         271\n",
       "95 2002-12-01         306"
      ]
     },
     "execution_count": 5,
     "metadata": {},
     "output_type": "execute_result"
    }
   ],
   "source": [
    "al.tail(13)"
   ]
  },
  {
   "cell_type": "code",
   "execution_count": 6,
   "id": "f15055a3",
   "metadata": {},
   "outputs": [
    {
     "data": {
      "text/plain": [
       "Month         0\n",
       "Passengers    0\n",
       "dtype: int64"
      ]
     },
     "execution_count": 6,
     "metadata": {},
     "output_type": "execute_result"
    }
   ],
   "source": [
    "#checking NA values\n",
    "al.isna().sum()"
   ]
  },
  {
   "cell_type": "code",
   "execution_count": 7,
   "id": "44b87c0f",
   "metadata": {},
   "outputs": [
    {
     "data": {
      "text/plain": [
       "<bound method DataFrame.duplicated of         Month  Passengers\n",
       "0  1995-01-01         112\n",
       "1  1995-02-01         118\n",
       "2  1995-03-01         132\n",
       "3  1995-04-01         129\n",
       "4  1995-05-01         121\n",
       "..        ...         ...\n",
       "91 2002-08-01         405\n",
       "92 2002-09-01         355\n",
       "93 2002-10-01         306\n",
       "94 2002-11-01         271\n",
       "95 2002-12-01         306\n",
       "\n",
       "[96 rows x 2 columns]>"
      ]
     },
     "execution_count": 7,
     "metadata": {},
     "output_type": "execute_result"
    }
   ],
   "source": [
    "#checking Duplicates\n",
    "al.duplicated"
   ]
  },
  {
   "cell_type": "code",
   "execution_count": 8,
   "id": "f0b96b2c",
   "metadata": {},
   "outputs": [
    {
     "data": {
      "image/png": "[encoded data removed]",
      "text/plain": [
       "<Figure size 432x288 with 1 Axes>"
      ]
     },
     "metadata": {
      "needs_background": "light"
     },
     "output_type": "display_data"
    }
   ],
   "source": [
    "#plotting time series plot\n",
    "al.Passengers.plot()\n",
    "plt.show()"
   ]
  },
  {
   "cell_type": "code",
   "execution_count": null,
   "id": "1b1786a5",
   "metadata": {},
   "outputs": [],
   "source": []
  },
  {
   "cell_type": "code",
   "execution_count": null,
   "id": "3441a0cb",
   "metadata": {
    "scrolled": true
   },
   "outputs": [],
   "source": []
  },
  {
   "cell_type": "code",
   "execution_count": null,
   "id": "1726779e",
   "metadata": {},
   "outputs": [],
   "source": []
  },
  {
   "cell_type": "code",
   "execution_count": 9,
   "id": "1d29e0ec",
   "metadata": {},
   "outputs": [
    {
     "data": {
      "image/png": "[encoded data removed]",
      "text/plain": [
       "<Figure size 432x288 with 1 Axes>"
      ]
     },
     "metadata": {
      "needs_background": "light"
     },
     "output_type": "display_data"
    }
   ],
   "source": [
    "# Centering moving average for the time series\n",
    "for i in range (8,15,2):\n",
    "    al.Passengers.rolling(i).mean().plot(label=str(i))\n",
    "plt.legend(loc=3)\n",
    "plt.show()"
   ]
  },
  {
   "cell_type": "markdown",
   "id": "4c437c54",
   "metadata": {},
   "source": [
    "at lag = 12 we are getting good smoothen curve"
   ]
  },
  {
   "cell_type": "code",
   "execution_count": 10,
   "id": "606bb8c9",
   "metadata": {},
   "outputs": [
    {
     "data": {
      "image/png": "[encoded data removed]",
      "text/plain": [
       "<Figure size 432x288 with 4 Axes>"
      ]
     },
     "metadata": {
      "needs_background": "light"
     },
     "output_type": "display_data"
    },
    {
     "data": {
      "image/png": "[encoded data removed]",
      "text/plain": [
       "<Figure size 432x288 with 4 Axes>"
      ]
     },
     "metadata": {
      "needs_background": "light"
     },
     "output_type": "display_data"
    }
   ],
   "source": [
    "# Time series decomposition plot\n",
    "from statsmodels.tsa.seasonal import seasonal_decompose\n",
    "decompose_ts_add = seasonal_decompose(al.Passengers, model = \"additive\", period = 12)\n",
    "decompose_ts_add.plot()\n",
    "decompose_ts_mul = seasonal_decompose(al.Passengers, model = \"multiplicative\", period = 12)\n",
    "decompose_ts_mul.plot()\n",
    "plt.show()"
   ]
  },
  {
   "cell_type": "code",
   "execution_count": 11,
   "id": "e2a82415",
   "metadata": {},
   "outputs": [
    {
     "data": {
      "image/png": "[encoded data removed]",
      "text/plain": [
       "<Figure size 432x288 with 1 Axes>"
      ]
     },
     "metadata": {
      "needs_background": "light"
     },
     "output_type": "display_data"
    }
   ],
   "source": [
    "# ACF plot on Original data sets \n",
    "import statsmodels.graphics.tsaplots as tsa_plots\n",
    "tsa_plots.plot_acf(al.Passengers, lags = 12)\n",
    "plt.show()"
   ]
  },
  {
   "cell_type": "code",
   "execution_count": 12,
   "id": "9767bebf",
   "metadata": {},
   "outputs": [
    {
     "data": {
      "image/png": "[encoded data removed]",
      "text/plain": [
       "<Figure size 432x288 with 1 Axes>"
      ]
     },
     "metadata": {
      "needs_background": "light"
     },
     "output_type": "display_data"
    }
   ],
   "source": [
    "tsa_plots.plot_pacf(al.Passengers, lags=12)\n",
    "plt.show()"
   ]
  },
  {
   "cell_type": "code",
   "execution_count": 13,
   "id": "fb745972",
   "metadata": {},
   "outputs": [],
   "source": [
    "#Splitting data into train and test"
   ]
  },
  {
   "cell_type": "code",
   "execution_count": 14,
   "id": "a78e3695",
   "metadata": {},
   "outputs": [],
   "source": [
    "Train = al.head(71)\n",
    "Test=al.tail(24)"
   ]
  },
  {
   "cell_type": "code",
   "execution_count": null,
   "id": "cc391f3a",
   "metadata": {},
   "outputs": [],
   "source": []
  },
  {
   "cell_type": "code",
   "execution_count": 15,
   "id": "bab2f3b3",
   "metadata": {},
   "outputs": [],
   "source": [
    "# Creating a function to calculate the MAPE value for test data \n",
    "def MAPE(pred,org):\n",
    "    temp = np.abs((pred-org)/org)*100\n",
    "    return np.mean(temp)"
   ]
  },
  {
   "cell_type": "code",
   "execution_count": 16,
   "id": "46810ff1",
   "metadata": {},
   "outputs": [
    {
     "name": "stderr",
     "output_type": "stream",
     "text": [
      "C:\\Users\\theas\\anaconda3\\lib\\site-packages\\statsmodels\\tsa\\holtwinters\\model.py:427: FutureWarning: After 0.13 initialization must be handled at model creation\n",
      "  warnings.warn(\n"
     ]
    },
    {
     "data": {
      "text/plain": [
       "20.000366885320275"
      ]
     },
     "execution_count": 16,
     "metadata": {},
     "output_type": "execute_result"
    }
   ],
   "source": [
    "# Simple Exponential Method\n",
    "from statsmodels.tsa.holtwinters import SimpleExpSmoothing\n",
    "ses_model = SimpleExpSmoothing(Train[\"Passengers\"]).fit(smoothing_level=0.2)\n",
    "pred_ses = ses_model.predict(start = Test.index[0], end = Test.index[-1])\n",
    "MAPE(pred_ses, Test.Passengers) "
   ]
  },
  {
   "cell_type": "code",
   "execution_count": 17,
   "id": "76f15256",
   "metadata": {},
   "outputs": [
    {
     "data": {
      "text/plain": [
       "10.718773009471683"
      ]
     },
     "execution_count": 17,
     "metadata": {},
     "output_type": "execute_result"
    }
   ],
   "source": [
    "# Holt method \n",
    "from statsmodels.tsa.holtwinters import Holt\n",
    "hw_model = Holt(Train[\"Passengers\"]).fit(smoothing_level=0.01)\n",
    "pred_hw = hw_model.predict(start = Test.index[0], end = Test.index[-1])\n",
    "MAPE(pred_hw, Test.Passengers)"
   ]
  },
  {
   "cell_type": "code",
   "execution_count": 18,
   "id": "fb18e6c9",
   "metadata": {},
   "outputs": [
    {
     "data": {
      "text/plain": [
       "8.15162420154798"
      ]
     },
     "execution_count": 18,
     "metadata": {},
     "output_type": "execute_result"
    }
   ],
   "source": [
    "# Holts winter exponential smoothing with additive seasonality and additive trend\n",
    "from statsmodels.tsa.holtwinters import ExponentialSmoothing \n",
    "hwe_model_add_add = ExponentialSmoothing(Train[\"Passengers\"], seasonal = \"add\", trend = \"add\", seasonal_periods = 12).fit(smoothing_level=0.01)\n",
    "pred_hwe_add_add = hwe_model_add_add.predict(start = Test.index[0], end = Test.index[-1])\n",
    "MAPE(pred_hwe_add_add, Test.Passengers)"
   ]
  },
  {
   "cell_type": "code",
   "execution_count": 19,
   "id": "c4664c07",
   "metadata": {},
   "outputs": [
    {
     "data": {
      "text/plain": [
       "8.471807943001211"
      ]
     },
     "execution_count": 19,
     "metadata": {},
     "output_type": "execute_result"
    }
   ],
   "source": [
    "# Holts winter exponential smoothing with multiplicative seasonality and additive trend\n",
    "hwe_model_mul_add = ExponentialSmoothing(Train[\"Passengers\"], seasonal = \"mul\", trend = \"add\", seasonal_periods = 12).fit(smoothing_level=0.01)\n",
    "pred_hwe_mul_add = hwe_model_mul_add.predict(start = Test.index[0], end = Test.index[-1])\n",
    "MAPE(pred_hwe_mul_add, Test.Passengers) "
   ]
  },
  {
   "cell_type": "markdown",
   "id": "371defeb",
   "metadata": {},
   "source": [
    "final model **Holts winter exponential smoothing with additive seasonality and additive trend**"
   ]
  },
  {
   "cell_type": "code",
   "execution_count": 20,
   "id": "4abe45fd",
   "metadata": {},
   "outputs": [],
   "source": [
    "#preparing new data to store predictions\n",
    "pred = pd.read_excel(\"D:/DataScience/Class/assignment working/Forcasting/pred_Airlines Data.xlsx\")"
   ]
  },
  {
   "cell_type": "code",
   "execution_count": 21,
   "id": "7e600557",
   "metadata": {},
   "outputs": [],
   "source": [
    "final_model = ExponentialSmoothing(al[\"Passengers\"], seasonal = \"add\", trend = \"add\", seasonal_periods = 12).fit(smoothing_level=0.01)"
   ]
  },
  {
   "cell_type": "code",
   "execution_count": 22,
   "id": "29cd3ac9",
   "metadata": {},
   "outputs": [],
   "source": [
    "final_pred = final_model.predict(start = pred.index[0], end = pred.index[-1])"
   ]
  },
  {
   "cell_type": "code",
   "execution_count": 24,
   "id": "070ca35f",
   "metadata": {
    "scrolled": true
   },
   "outputs": [
    {
     "data": {
      "image/png": "[encoded data removed]",
      "text/plain": [
       "<Figure size 432x288 with 1 Axes>"
      ]
     },
     "metadata": {
      "needs_background": "light"
     },
     "output_type": "display_data"
    }
   ],
   "source": [
    "plt.plot(al.Passengers)\n",
    "plt.plot(final_pred.iloc[95:])\n",
    "plt.show()"
   ]
  },
  {
   "cell_type": "markdown",
   "id": "71481679",
   "metadata": {},
   "source": [
    "### Predicting with Seasonal Arimax model"
   ]
  },
  {
   "cell_type": "code",
   "execution_count": null,
   "id": "6bb0f15d",
   "metadata": {},
   "outputs": [],
   "source": []
  },
  {
   "cell_type": "code",
   "execution_count": 25,
   "id": "ad38f8ff",
   "metadata": {},
   "outputs": [],
   "source": [
    "#adf test to check null hypothesis\n",
    "#HO- Data is not stationary \n",
    "#HA- Data is stationary\n",
    "from statsmodels.tsa.stattools import adfuller"
   ]
  },
  {
   "cell_type": "code",
   "execution_count": 26,
   "id": "dc426bc2",
   "metadata": {},
   "outputs": [
    {
     "data": {
      "text/plain": [
       "(1.3402479596467036,\n",
       " 0.9968250481137263,\n",
       " 12,\n",
       " 83,\n",
       " {'1%': -3.5117123057187376,\n",
       "  '5%': -2.8970475206326833,\n",
       "  '10%': -2.5857126912469153},\n",
       " 626.0084713813505)"
      ]
     },
     "execution_count": 26,
     "metadata": {},
     "output_type": "execute_result"
    }
   ],
   "source": [
    "test = adfuller(al.Passengers)\n",
    "test"
   ]
  },
  {
   "cell_type": "code",
   "execution_count": 27,
   "id": "71d4d8b1",
   "metadata": {},
   "outputs": [],
   "source": [
    "#strong evidence that data is non stationary\n",
    "#ADFulller test is required for ARIMA only"
   ]
  },
  {
   "cell_type": "markdown",
   "id": "81ae2a2f",
   "metadata": {},
   "source": [
    "### Differencing"
   ]
  },
  {
   "cell_type": "code",
   "execution_count": 28,
   "id": "dbc45277",
   "metadata": {},
   "outputs": [],
   "source": [
    "#making data stationary by removing seasonality and trend"
   ]
  },
  {
   "cell_type": "code",
   "execution_count": 29,
   "id": "7e47bf95",
   "metadata": {},
   "outputs": [],
   "source": [
    "al[\"First_Difference\"] = al.Passengers - al.Passengers.shift(1)"
   ]
  },
  {
   "cell_type": "code",
   "execution_count": 30,
   "id": "8124537e",
   "metadata": {},
   "outputs": [],
   "source": [
    "al[\"Seasonal_Difference\"] = al.Passengers - al.Passengers.shift(12)"
   ]
  },
  {
   "cell_type": "code",
   "execution_count": 31,
   "id": "2005bb7e",
   "metadata": {},
   "outputs": [
    {
     "data": {
      "text/html": [
       "<div>\n",
       "<style scoped>\n",
       "    .dataframe tbody tr th:only-of-type {\n",
       "        vertical-align: middle;\n",
       "    }\n",
       "\n",
       "    .dataframe tbody tr th {\n",
       "        vertical-align: top;\n",
       "    }\n",
       "\n",
       "    .dataframe thead th {\n",
       "        text-align: right;\n",
       "    }\n",
       "</style>\n",
       "<table border=\"1\" class=\"dataframe\">\n",
       "  <thead>\n",
       "    <tr style=\"text-align: right;\">\n",
       "      <th></th>\n",
       "      <th>Month</th>\n",
       "      <th>Passengers</th>\n",
       "      <th>First_Difference</th>\n",
       "      <th>Seasonal_Difference</th>\n",
       "    </tr>\n",
       "  </thead>\n",
       "  <tbody>\n",
       "    <tr>\n",
       "      <th>0</th>\n",
       "      <td>1995-01-01</td>\n",
       "      <td>112</td>\n",
       "      <td>NaN</td>\n",
       "      <td>NaN</td>\n",
       "    </tr>\n",
       "    <tr>\n",
       "      <th>1</th>\n",
       "      <td>1995-02-01</td>\n",
       "      <td>118</td>\n",
       "      <td>6.0</td>\n",
       "      <td>NaN</td>\n",
       "    </tr>\n",
       "    <tr>\n",
       "      <th>2</th>\n",
       "      <td>1995-03-01</td>\n",
       "      <td>132</td>\n",
       "      <td>14.0</td>\n",
       "      <td>NaN</td>\n",
       "    </tr>\n",
       "    <tr>\n",
       "      <th>3</th>\n",
       "      <td>1995-04-01</td>\n",
       "      <td>129</td>\n",
       "      <td>-3.0</td>\n",
       "      <td>NaN</td>\n",
       "    </tr>\n",
       "    <tr>\n",
       "      <th>4</th>\n",
       "      <td>1995-05-01</td>\n",
       "      <td>121</td>\n",
       "      <td>-8.0</td>\n",
       "      <td>NaN</td>\n",
       "    </tr>\n",
       "    <tr>\n",
       "      <th>5</th>\n",
       "      <td>1995-06-01</td>\n",
       "      <td>135</td>\n",
       "      <td>14.0</td>\n",
       "      <td>NaN</td>\n",
       "    </tr>\n",
       "    <tr>\n",
       "      <th>6</th>\n",
       "      <td>1995-07-01</td>\n",
       "      <td>148</td>\n",
       "      <td>13.0</td>\n",
       "      <td>NaN</td>\n",
       "    </tr>\n",
       "    <tr>\n",
       "      <th>7</th>\n",
       "      <td>1995-08-01</td>\n",
       "      <td>148</td>\n",
       "      <td>0.0</td>\n",
       "      <td>NaN</td>\n",
       "    </tr>\n",
       "    <tr>\n",
       "      <th>8</th>\n",
       "      <td>1995-09-01</td>\n",
       "      <td>136</td>\n",
       "      <td>-12.0</td>\n",
       "      <td>NaN</td>\n",
       "    </tr>\n",
       "    <tr>\n",
       "      <th>9</th>\n",
       "      <td>1995-10-01</td>\n",
       "      <td>119</td>\n",
       "      <td>-17.0</td>\n",
       "      <td>NaN</td>\n",
       "    </tr>\n",
       "    <tr>\n",
       "      <th>10</th>\n",
       "      <td>1995-11-01</td>\n",
       "      <td>104</td>\n",
       "      <td>-15.0</td>\n",
       "      <td>NaN</td>\n",
       "    </tr>\n",
       "    <tr>\n",
       "      <th>11</th>\n",
       "      <td>1995-12-01</td>\n",
       "      <td>118</td>\n",
       "      <td>14.0</td>\n",
       "      <td>NaN</td>\n",
       "    </tr>\n",
       "    <tr>\n",
       "      <th>12</th>\n",
       "      <td>1996-01-01</td>\n",
       "      <td>115</td>\n",
       "      <td>-3.0</td>\n",
       "      <td>3.0</td>\n",
       "    </tr>\n",
       "    <tr>\n",
       "      <th>13</th>\n",
       "      <td>1996-02-01</td>\n",
       "      <td>126</td>\n",
       "      <td>11.0</td>\n",
       "      <td>8.0</td>\n",
       "    </tr>\n",
       "    <tr>\n",
       "      <th>14</th>\n",
       "      <td>1996-03-01</td>\n",
       "      <td>141</td>\n",
       "      <td>15.0</td>\n",
       "      <td>9.0</td>\n",
       "    </tr>\n",
       "    <tr>\n",
       "      <th>15</th>\n",
       "      <td>1996-04-01</td>\n",
       "      <td>135</td>\n",
       "      <td>-6.0</td>\n",
       "      <td>6.0</td>\n",
       "    </tr>\n",
       "    <tr>\n",
       "      <th>16</th>\n",
       "      <td>1996-05-01</td>\n",
       "      <td>125</td>\n",
       "      <td>-10.0</td>\n",
       "      <td>4.0</td>\n",
       "    </tr>\n",
       "    <tr>\n",
       "      <th>17</th>\n",
       "      <td>1996-06-01</td>\n",
       "      <td>149</td>\n",
       "      <td>24.0</td>\n",
       "      <td>14.0</td>\n",
       "    </tr>\n",
       "    <tr>\n",
       "      <th>18</th>\n",
       "      <td>1996-07-01</td>\n",
       "      <td>170</td>\n",
       "      <td>21.0</td>\n",
       "      <td>22.0</td>\n",
       "    </tr>\n",
       "    <tr>\n",
       "      <th>19</th>\n",
       "      <td>1996-08-01</td>\n",
       "      <td>170</td>\n",
       "      <td>0.0</td>\n",
       "      <td>22.0</td>\n",
       "    </tr>\n",
       "  </tbody>\n",
       "</table>\n",
       "</div>"
      ],
      "text/plain": [
       "        Month  Passengers  First_Difference  Seasonal_Difference\n",
       "0  1995-01-01         112               NaN                  NaN\n",
       "1  1995-02-01         118               6.0                  NaN\n",
       "2  1995-03-01         132              14.0                  NaN\n",
       "3  1995-04-01         129              -3.0                  NaN\n",
       "4  1995-05-01         121              -8.0                  NaN\n",
       "5  1995-06-01         135              14.0                  NaN\n",
       "6  1995-07-01         148              13.0                  NaN\n",
       "7  1995-08-01         148               0.0                  NaN\n",
       "8  1995-09-01         136             -12.0                  NaN\n",
       "9  1995-10-01         119             -17.0                  NaN\n",
       "10 1995-11-01         104             -15.0                  NaN\n",
       "11 1995-12-01         118              14.0                  NaN\n",
       "12 1996-01-01         115              -3.0                  3.0\n",
       "13 1996-02-01         126              11.0                  8.0\n",
       "14 1996-03-01         141              15.0                  9.0\n",
       "15 1996-04-01         135              -6.0                  6.0\n",
       "16 1996-05-01         125             -10.0                  4.0\n",
       "17 1996-06-01         149              24.0                 14.0\n",
       "18 1996-07-01         170              21.0                 22.0\n",
       "19 1996-08-01         170               0.0                 22.0"
      ]
     },
     "execution_count": 31,
     "metadata": {},
     "output_type": "execute_result"
    }
   ],
   "source": [
    "al.head(20)"
   ]
  },
  {
   "cell_type": "code",
   "execution_count": 32,
   "id": "ca1bd446",
   "metadata": {},
   "outputs": [],
   "source": [
    "#again Dickey Fuller test to check data is stationary or not"
   ]
  },
  {
   "cell_type": "code",
   "execution_count": 33,
   "id": "ade3e354",
   "metadata": {},
   "outputs": [
    {
     "data": {
      "text/plain": [
       "(-2.690004383862315,\n",
       " 0.07578397625851786,\n",
       " 1,\n",
       " 82,\n",
       " {'1%': -3.512738056978279,\n",
       "  '5%': -2.8974898650628984,\n",
       "  '10%': -2.585948732897085},\n",
       " 531.1060746991411)"
      ]
     },
     "execution_count": 33,
     "metadata": {},
     "output_type": "execute_result"
    }
   ],
   "source": [
    "from statsmodels.tsa.stattools import adfuller\n",
    "test = adfuller(al.Seasonal_Difference.dropna())\n",
    "test"
   ]
  },
  {
   "cell_type": "code",
   "execution_count": 34,
   "id": "d9805ff3",
   "metadata": {
    "scrolled": true
   },
   "outputs": [
    {
     "name": "stderr",
     "output_type": "stream",
     "text": [
      "C:\\Users\\theas\\anaconda3\\lib\\site-packages\\pandas\\core\\arraylike.py:358: RuntimeWarning: invalid value encountered in log\n",
      "  result = getattr(ufunc, method)(*inputs, **kwargs)\n"
     ]
    }
   ],
   "source": [
    "al[\"log_seasonal_diff\"]=np.log(al.Seasonal_Difference)"
   ]
  },
  {
   "cell_type": "code",
   "execution_count": 35,
   "id": "57c6a46e",
   "metadata": {},
   "outputs": [
    {
     "data": {
      "text/plain": [
       "(-4.291584015765532,\n",
       " 0.0004593575293336507,\n",
       " 0,\n",
       " 80,\n",
       " {'1%': -3.5148692050781247, '5%': -2.8984085156250003, '10%': -2.58643890625},\n",
       " 60.88061818964134)"
      ]
     },
     "execution_count": 35,
     "metadata": {},
     "output_type": "execute_result"
    }
   ],
   "source": [
    "test = adfuller(al.log_seasonal_diff.dropna())\n",
    "test"
   ]
  },
  {
   "cell_type": "markdown",
   "id": "ddfb77d8",
   "metadata": {},
   "source": [
    "we can have strong evidence against Null Hypothesis,we can reject null hypothesis, the data is stationary\n"
   ]
  },
  {
   "cell_type": "code",
   "execution_count": 36,
   "id": "bc027ed2",
   "metadata": {},
   "outputs": [
    {
     "data": {
      "image/png": "[encoded data removed]",
      "text/plain": [
       "<Figure size 432x288 with 1 Axes>"
      ]
     },
     "metadata": {
      "needs_background": "light"
     },
     "output_type": "display_data"
    }
   ],
   "source": [
    "al.log_seasonal_diff.plot()\n",
    "plt.show()"
   ]
  },
  {
   "cell_type": "markdown",
   "id": "0a67a79b",
   "metadata": {},
   "source": [
    "seasonality has been removed succesfully "
   ]
  },
  {
   "cell_type": "code",
   "execution_count": 37,
   "id": "8acdfbc7",
   "metadata": {},
   "outputs": [],
   "source": [
    "from statsmodels.graphics.tsaplots import plot_acf,plot_pacf,plot_predict"
   ]
  },
  {
   "cell_type": "code",
   "execution_count": 38,
   "id": "994bc304",
   "metadata": {},
   "outputs": [
    {
     "data": {
      "image/png": "[encoded data removed]",
      "text/plain": [
       "<Figure size 432x288 with 1 Axes>"
      ]
     },
     "metadata": {
      "needs_background": "light"
     },
     "output_type": "display_data"
    }
   ],
   "source": [
    "plot_acf(al.Seasonal_Difference.dropna(),lags=10)\n",
    "plt.show()"
   ]
  },
  {
   "cell_type": "code",
   "execution_count": 39,
   "id": "dcba7a42",
   "metadata": {},
   "outputs": [
    {
     "data": {
      "image/png": "[encoded data removed]",
      "text/plain": [
       "<Figure size 432x288 with 1 Axes>"
      ]
     },
     "metadata": {
      "needs_background": "light"
     },
     "output_type": "display_data"
    }
   ],
   "source": [
    "plot_pacf(al.Seasonal_Difference.dropna(),lags=10)\n",
    "plt.show()"
   ]
  },
  {
   "cell_type": "code",
   "execution_count": 40,
   "id": "97f5226a",
   "metadata": {},
   "outputs": [],
   "source": [
    "import statsmodels.api as sm"
   ]
  },
  {
   "cell_type": "code",
   "execution_count": 41,
   "id": "17ff58e9",
   "metadata": {},
   "outputs": [],
   "source": [
    "model = sm.tsa.statespace.SARIMAX(al[\"Passengers\"],order=(1,1,1),seasonal_order=(1,1,1,12)) #seasonal_order=(p,d,q,m) #m=lag\n",
    "results=model.fit()"
   ]
  },
  {
   "cell_type": "code",
   "execution_count": 42,
   "id": "3c4bdda1",
   "metadata": {},
   "outputs": [
    {
     "data": {
      "image/png": "[encoded data removed]",
      "text/plain": [
       "<Figure size 432x288 with 1 Axes>"
      ]
     },
     "metadata": {
      "needs_background": "light"
     },
     "output_type": "display_data"
    }
   ],
   "source": [
    "pred[\"forecast\"] = results.predict(start = pred.index[0], end = pred.index[-1])\n",
    "al[\"Passengers\"].plot()\n",
    "plt.legend(loc=3)\n",
    "pred.forecast.iloc[95:].plot()\n",
    "plt.legend(loc=3)\n",
    "plt.show()"
   ]
  }
 ],
 "metadata": {
  "kernelspec": {
   "display_name": "Python 3",
   "language": "python",
   "name": "python3"
  },
  "language_info": {
   "codemirror_mode": {
    "name": "ipython",
    "version": 3
   },
   "file_extension": ".py",
   "mimetype": "text/x-python",
   "name": "python",
   "nbconvert_exporter": "python",
   "pygments_lexer": "ipython3",
   "version": "3.8.10"
  }
 },
 "nbformat": 4,
 "nbformat_minor": 5
}
